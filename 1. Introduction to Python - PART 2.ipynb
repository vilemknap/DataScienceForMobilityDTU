{
 "cells": [
  {
   "cell_type": "markdown",
   "metadata": {},
   "source": [
    "# Introduction to Ipython Notebook - PART 2"
   ]
  },
  {
   "cell_type": "markdown",
   "metadata": {},
   "source": [
    "## Modules - Functions"
   ]
  },
  {
   "cell_type": "markdown",
   "metadata": {},
   "source": [
    "Modules allow a programmer to write reusable code. Writing code with many functions is called programming \"functionally\".\n",
    "\n",
    "Functions are defined using the key work **\"def\"**."
   ]
  },
  {
   "cell_type": "markdown",
   "metadata": {},
   "source": [
    "* Consider this example:"
   ]
  },
  {
   "cell_type": "markdown",
   "metadata": {},
   "source": [
    "> First choose an initial value for x.\n",
    "\n",
    "> Then increment it with each integer from 0 to 99"
   ]
  },
  {
   "cell_type": "code",
   "execution_count": 3,
   "metadata": {},
   "outputs": [
    {
     "name": "stdout",
     "output_type": "stream",
     "text": [
      "4950\n"
     ]
    }
   ],
   "source": [
    "x = 0\n",
    "for i in range(100):\n",
    "    x+=i\n",
    "print(x)"
   ]
  },
  {
   "cell_type": "markdown",
   "metadata": {},
   "source": [
    "> What if we do this for a new initial value for x? \n",
    "\n",
    "> What if we use a different number instead of 100?\n",
    "\n",
    "> We don't want to rewrite this for loop every time. \n",
    "\n",
    "> **Let's define a function.**\n",
    "\n",
    "> We need to use the keyword def"
   ]
  },
  {
   "cell_type": "code",
   "execution_count": 4,
   "metadata": {},
   "outputs": [],
   "source": [
    "def ForSum(x,y):\n",
    "    for i in range(y):\n",
    "        x+=i\n",
    "    # \"return\" indicates what values to output\n",
    "    return x"
   ]
  },
  {
   "cell_type": "code",
   "execution_count": 5,
   "metadata": {},
   "outputs": [
    {
     "name": "stdout",
     "output_type": "stream",
     "text": [
      "4950\n",
      "1235\n"
     ]
    }
   ],
   "source": [
    "# Same calculation from above\n",
    "print(ForSum(0,100))\n",
    "print(ForSum(10,50))"
   ]
  },
  {
   "cell_type": "markdown",
   "metadata": {},
   "source": [
    "Interestingly, pointers can store functions. This means that functions can be inputs to other functions."
   ]
  },
  {
   "cell_type": "code",
   "execution_count": 120,
   "metadata": {},
   "outputs": [
    {
     "name": "stdout",
     "output_type": "stream",
     "text": [
      "4950\n",
      "4960\n",
      "505685\n"
     ]
    }
   ],
   "source": [
    "F = ForSum\n",
    "print(F(0,100))\n",
    "\n",
    "def execute(funct,x):\n",
    "    return funct(x,100)\n",
    "\n",
    "print(execute(F,10))\n",
    "\n",
    "# Now, just for fun:\n",
    "print(F(F(F(10,100),50),1000))"
   ]
  },
  {
   "cell_type": "markdown",
   "metadata": {},
   "source": [
    "#### Let's look at calculating an average using a Python list.\n",
    " \n"
   ]
  },
  {
   "cell_type": "code",
   "execution_count": 196,
   "metadata": {},
   "outputs": [
    {
     "name": "stdout",
     "output_type": "stream",
     "text": [
      "0.0749500000000003 seconds using Python list.\n"
     ]
    }
   ],
   "source": [
    "import time\n",
    "\n",
    "def avg(X, pr=False): \n",
    "    sum = 0.0\n",
    "    for x in X:\n",
    "        sum += x\n",
    "    if pr:\n",
    "        print(\"...and the average is...\", sum/len(X))\n",
    "    return sum/len(X)\n",
    "\n",
    "X = range(1000000) # 0,1,2,3,...,999999\n",
    "startTime = time.clock()\n",
    "Y = avg(X)\n",
    "wallTime1 = time.clock() - startTime     #This is the time it takes to do an average calculation (of 1000000 list) with python lists\n",
    "print(str(wallTime1)+\" seconds using Python list.\")   "
   ]
  },
  {
   "cell_type": "markdown",
   "metadata": {},
   "source": [
    "You should understand what the pr=False in the def statement means"
   ]
  },
  {
   "cell_type": "markdown",
   "metadata": {},
   "source": [
    "***It provides a default value (False) to the parameter pr.***"
   ]
  },
  {
   "cell_type": "markdown",
   "metadata": {},
   "source": [
    " If you don't even mention it, it will assume it is False"
   ]
  },
  {
   "cell_type": "code",
   "execution_count": 130,
   "metadata": {},
   "outputs": [
    {
     "data": {
      "text/plain": [
       "499999.5"
      ]
     },
     "execution_count": 130,
     "metadata": {},
     "output_type": "execute_result"
    }
   ],
   "source": [
    "avg(X)"
   ]
  },
  {
   "cell_type": "markdown",
   "metadata": {},
   "source": [
    "You can also use the function normally"
   ]
  },
  {
   "cell_type": "code",
   "execution_count": 131,
   "metadata": {},
   "outputs": [
    {
     "name": "stdout",
     "output_type": "stream",
     "text": [
      "...and the average is... 499999.5\n"
     ]
    },
    {
     "data": {
      "text/plain": [
       "499999.5"
      ]
     },
     "execution_count": 131,
     "metadata": {},
     "output_type": "execute_result"
    }
   ],
   "source": [
    "avg(X, True)"
   ]
  },
  {
   "cell_type": "markdown",
   "metadata": {},
   "source": [
    "### Defining Functions of your Own"
   ]
  },
  {
   "cell_type": "code",
   "execution_count": 132,
   "metadata": {},
   "outputs": [
    {
     "name": "stdout",
     "output_type": "stream",
     "text": [
      "Happy Birthday to you!\n",
      "Happy Birthday to you!\n",
      "Happy Birthday, dear Emily.\n",
      "Happy Birthday to you!\n",
      "Happy Birthday to you!\n",
      "Happy Birthday to you!\n",
      "Happy Birthday, dear Andre.\n",
      "Happy Birthday to you!\n"
     ]
    }
   ],
   "source": [
    "#Function with parameter called in main\n",
    "\n",
    "def happyBirthday(person):\n",
    "    print(\"Happy Birthday to you!\")\n",
    "    print(\"Happy Birthday to you!\")\n",
    "    print(\"Happy Birthday, dear \" + person + \".\")\n",
    "    print(\"Happy Birthday to you!\")\n",
    "\n",
    "def main():\n",
    "    happyBirthday('Emily')\n",
    "    happyBirthday('Andre')\n",
    "\n",
    "main()"
   ]
  },
  {
   "cell_type": "markdown",
   "metadata": {},
   "source": [
    "Let's see what will happen if the input variable has a default value..."
   ]
  },
  {
   "cell_type": "code",
   "execution_count": 133,
   "metadata": {},
   "outputs": [],
   "source": [
    "#Function with parameter called in main\n",
    "\n",
    "def happyBirthday(person = 'Emily'):\n",
    "    print(\"Happy Birthday to you!\")\n",
    "    print(\"Happy Birthday to you!\")\n",
    "    print(\"Happy Birthday, dear \" + person + \".\")\n",
    "    print(\"Happy Birthday to you!\")"
   ]
  },
  {
   "cell_type": "code",
   "execution_count": 134,
   "metadata": {},
   "outputs": [],
   "source": [
    "def main():\n",
    "    happyBirthday()\n",
    "    happyBirthday('Andre')"
   ]
  },
  {
   "cell_type": "markdown",
   "metadata": {},
   "source": [
    "What would you expect to see???"
   ]
  },
  {
   "cell_type": "code",
   "execution_count": 135,
   "metadata": {},
   "outputs": [
    {
     "name": "stdout",
     "output_type": "stream",
     "text": [
      "Happy Birthday to you!\n",
      "Happy Birthday to you!\n",
      "Happy Birthday, dear Emily.\n",
      "Happy Birthday to you!\n",
      "Happy Birthday to you!\n",
      "Happy Birthday to you!\n",
      "Happy Birthday, dear Andre.\n",
      "Happy Birthday to you!\n"
     ]
    }
   ],
   "source": [
    "main()"
   ]
  },
  {
   "cell_type": "markdown",
   "metadata": {},
   "source": [
    "### OPTIONAL: if you feel overwhelmed, do this section later\n",
    "### `*args` and `**kwargs` in python "
   ]
  },
  {
   "cell_type": "markdown",
   "metadata": {},
   "source": [
    "`*args` is used to send a non-keyworded variable length argument list to the function. Here’s an example to help you get a clear idea:"
   ]
  },
  {
   "cell_type": "code",
   "execution_count": 138,
   "metadata": {},
   "outputs": [
    {
     "name": "stdout",
     "output_type": "stream",
     "text": [
      "first normal arg: yasoob\n",
      "another arg through *argv :python\n",
      "another arg through *argv :eggs\n",
      "another arg through *argv :test\n"
     ]
    }
   ],
   "source": [
    "def test_var_args(f_arg, *argv):\n",
    "    print(\"first normal arg:\", f_arg)\n",
    "    for arg in argv:\n",
    "        print(\"another arg through *argv :\"+str(arg))\n",
    "\n",
    "test_var_args('yasoob','python','eggs','test')"
   ]
  },
  {
   "cell_type": "markdown",
   "metadata": {},
   "source": [
    "`**kwargs` allows you to pass keyworded variable length of arguments to a function. You should use `**kwargs` if you want to handle named arguments in a function. Here is an example to get you going with it:"
   ]
  },
  {
   "cell_type": "code",
   "execution_count": 156,
   "metadata": {},
   "outputs": [],
   "source": [
    "def greet_me(**kwargs):\n",
    "    if kwargs is not None:\n",
    "        for key, value in kwargs.items():\n",
    "            print(\"%s == %s\" %(key,value))"
   ]
  },
  {
   "cell_type": "code",
   "execution_count": 157,
   "metadata": {},
   "outputs": [
    {
     "name": "stdout",
     "output_type": "stream",
     "text": [
      "name == yasoob\n"
     ]
    }
   ],
   "source": [
    "greet_me(name=\"yasoob\")"
   ]
  },
  {
   "cell_type": "code",
   "execution_count": 158,
   "metadata": {},
   "outputs": [],
   "source": [
    "def test_args_kwargs(arg1, arg2, arg3):\n",
    "    print(\"arg1:\", arg1)\n",
    "    print(\"arg2:\", arg2)\n",
    "    print(\"arg3:\", arg3)"
   ]
  },
  {
   "cell_type": "code",
   "execution_count": 159,
   "metadata": {},
   "outputs": [
    {
     "name": "stdout",
     "output_type": "stream",
     "text": [
      "arg1: two\n",
      "arg2: 3\n",
      "arg3: 5\n"
     ]
    }
   ],
   "source": [
    "# first with *args\n",
    "args = (\"two\", 3,5)\n",
    "test_args_kwargs(*args)"
   ]
  },
  {
   "cell_type": "code",
   "execution_count": 170,
   "metadata": {},
   "outputs": [
    {
     "name": "stdout",
     "output_type": "stream",
     "text": [
      "arg1: 5\n",
      "arg2: two\n",
      "arg3: 3\n"
     ]
    }
   ],
   "source": [
    "# now with **kwargs:\n",
    "kwargs = {\"arg3\": 3, \"arg2\": \"two\",\"arg1\":5}\n",
    "test_args_kwargs(**kwargs)"
   ]
  },
  {
   "cell_type": "markdown",
   "metadata": {},
   "source": [
    "### Exercises"
   ]
  },
  {
   "cell_type": "markdown",
   "metadata": {},
   "source": [
    "1) Write a Python function to find the Max of three numbers"
   ]
  },
  {
   "cell_type": "code",
   "execution_count": null,
   "metadata": {},
   "outputs": [],
   "source": []
  },
  {
   "cell_type": "markdown",
   "metadata": {},
   "source": [
    "2) Write a Python function that receives a \"day of week\" (0=sunday, 6=saturday), and returns whether it's weekeday or weekend"
   ]
  },
  {
   "cell_type": "code",
   "execution_count": null,
   "metadata": {},
   "outputs": [],
   "source": []
  },
  {
   "cell_type": "markdown",
   "metadata": {},
   "source": [
    "3) Write a Python function that receives two lists (representing two vectors) and returns their internal product."
   ]
  },
  {
   "cell_type": "code",
   "execution_count": null,
   "metadata": {},
   "outputs": [],
   "source": []
  },
  {
   "cell_type": "markdown",
   "metadata": {},
   "source": [
    "4) Write a Python function that receives a list, and returns its average and standard deviation"
   ]
  },
  {
   "cell_type": "code",
   "execution_count": null,
   "metadata": {},
   "outputs": [],
   "source": []
  },
  {
   "cell_type": "code",
   "execution_count": null,
   "metadata": {
    "collapsed": true
   },
   "outputs": [],
   "source": []
  }
 ],
 "metadata": {
  "kernelspec": {
   "display_name": "Python 3",
   "language": "python",
   "name": "python3"
  },
  "language_info": {
   "codemirror_mode": {
    "name": "ipython",
    "version": 3
   },
   "file_extension": ".py",
   "mimetype": "text/x-python",
   "name": "python",
   "nbconvert_exporter": "python",
   "pygments_lexer": "ipython3",
   "version": "3.7.3"
  }
 },
 "nbformat": 4,
 "nbformat_minor": 2
}
